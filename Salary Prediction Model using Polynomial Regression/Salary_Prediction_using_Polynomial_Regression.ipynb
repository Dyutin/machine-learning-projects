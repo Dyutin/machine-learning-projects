{
  "nbformat": 4,
  "nbformat_minor": 0,
  "metadata": {
    "colab": {
      "provenance": []
    },
    "kernelspec": {
      "name": "python3",
      "display_name": "Python 3"
    },
    "language_info": {
      "name": "python"
    }
  },
  "cells": [
    {
      "cell_type": "code",
      "execution_count": 42,
      "metadata": {
        "id": "8QCkw1dBtMXZ"
      },
      "outputs": [],
      "source": [
        "import numpy as np\n",
        "import pandas as pd\n",
        "import matplotlib.pyplot as plt"
      ]
    },
    {
      "cell_type": "code",
      "source": [
        "df = pd.read_csv('/content/Levels_Fyi_Salary_Data.csv')\n",
        "salaryDF = df[['totalyearlycompensation', 'yearsofexperience', 'yearsatcompany', 'basesalary']]\n",
        "X = salaryDF.iloc[:, 1:]\n",
        "print(X)\n"
      ],
      "metadata": {
        "colab": {
          "base_uri": "https://localhost:8080/"
        },
        "id": "IsInbSC3th2Q",
        "outputId": "d421da66-b2c4-4dc7-f66f-81a0dc0c4717"
      },
      "execution_count": 43,
      "outputs": [
        {
          "output_type": "stream",
          "name": "stdout",
          "text": [
            "       yearsofexperience  yearsatcompany  basesalary\n",
            "0                    1.5             1.5    107000.0\n",
            "1                    5.0             3.0         0.0\n",
            "2                    8.0             0.0    155000.0\n",
            "3                    7.0             5.0    157000.0\n",
            "4                    5.0             3.0         0.0\n",
            "...                  ...             ...         ...\n",
            "62637               10.0             1.0    155000.0\n",
            "62638                2.0             2.0    146900.0\n",
            "62639               14.0            12.0    157000.0\n",
            "62640                8.0             4.0    194688.0\n",
            "62641                0.0             0.0    155000.0\n",
            "\n",
            "[62642 rows x 3 columns]\n"
          ]
        }
      ]
    },
    {
      "cell_type": "code",
      "source": [
        "y_train = salaryDF.iloc[:50000,0]\n",
        "y_test = salaryDF.iloc[50000:,0]\n",
        "print(y_test)"
      ],
      "metadata": {
        "colab": {
          "base_uri": "https://localhost:8080/"
        },
        "id": "1Lg15khvvuwR",
        "outputId": "21d2bb6e-8598-4db5-f6cf-6ab75bd17368"
      },
      "execution_count": 44,
      "outputs": [
        {
          "output_type": "stream",
          "name": "stdout",
          "text": [
            "50000    226000\n",
            "50001     89000\n",
            "50002    153000\n",
            "50003    112000\n",
            "50004    150000\n",
            "          ...  \n",
            "62637    327000\n",
            "62638    237000\n",
            "62639    220000\n",
            "62640    280000\n",
            "62641    200000\n",
            "Name: totalyearlycompensation, Length: 12642, dtype: int64\n"
          ]
        }
      ]
    },
    {
      "cell_type": "code",
      "source": [
        "#Storing number of rows\n",
        "rows = X.shape[0]\n",
        "N_train = 50000 # Number of training values which we are using\n",
        "train_err = {}\n",
        "test_err = {}\n",
        "count = 0"
      ],
      "metadata": {
        "id": "Qacw7Zd2xDEV"
      },
      "execution_count": 45,
      "outputs": []
    },
    {
      "cell_type": "markdown",
      "source": [
        "## Functions for RMSE and calculating weights"
      ],
      "metadata": {
        "id": "qXtwranNyMmX"
      }
    },
    {
      "cell_type": "code",
      "source": [
        "def rmse(targets, prediction):\n",
        "  return np.sqrt((np.square(targets-prediction)).mean())\n",
        "\n",
        "def calculateWeights(x_train, y_train):\n",
        "    w = np.linalg.inv(np.transpose(x_train).dot(x_train)).dot(np.transpose(x_train).dot(y_train))\n",
        "    return w"
      ],
      "metadata": {
        "id": "hlZfKWpuxO0d"
      },
      "execution_count": 46,
      "outputs": []
    },
    {
      "cell_type": "code",
      "source": [
        "for i in range(1,6):\n",
        "  A = np.ones([rows,(3*i)+1])\n",
        "  for j in range(0, 3):\n",
        "    for k in range(1, i+1):\n",
        "      A[:,count] = np.power(np.array(X.iloc[:, j]).T, k)\n",
        "      count = count+1\n",
        "  #splitting the x-values with monomials into training and testing\n",
        "  x_train = A[0:N_train, :]\n",
        "  x_test = A[N_train: , :]\n",
        "  w = calculateWeights(x_train, y_train)\n",
        "\n",
        "  #Calculate training error\n",
        "  y_train_pred = x_train.dot(w)\n",
        "  rms_train = rmse(y_train, y_train_pred)\n",
        "  train_err[i] = rms_train\n",
        "  print(rms_train)\n",
        "\n",
        "  #Calculate test error\n",
        "  y_test_pred = x_test.dot(w)\n",
        "  rms_train = rmse(y_test, y_test_pred)\n",
        "  test_err[i] = rms_train\n",
        "  print(rms_train)\n",
        "\n",
        "  count = 0"
      ],
      "metadata": {
        "id": "EqNs-fcuxNRa",
        "colab": {
          "base_uri": "https://localhost:8080/"
        },
        "outputId": "4cc7015f-d783-4489-9faf-fc523ad71f4b"
      },
      "execution_count": 51,
      "outputs": [
        {
          "output_type": "stream",
          "name": "stdout",
          "text": [
            "92469.43809773923\n",
            "121382.52351504721\n",
            "91573.99026037067\n",
            "129644.37305767846\n",
            "82679.30803704042\n",
            "450246.99729034357\n",
            "76200.18255097706\n",
            "1486057.670633349\n",
            "75412.29147140689\n",
            "1535500.4794139846\n"
          ]
        }
      ]
    },
    {
      "cell_type": "code",
      "source": [
        "#Produce a plot of results\n",
        "plt.plot(list(train_err.keys()), list(train_err.values()))\n",
        "plt.plot(list(test_err.keys()), list(test_err.values()))\n",
        "plt.ylabel('RMS')\n",
        "plt.legend(['Test error','Training error'])\n",
        "plt.title('Fit with polynomials, no regularization')\n",
        "plt.xlabel('Polynomial degree')\n",
        "plt.show()"
      ],
      "metadata": {
        "colab": {
          "base_uri": "https://localhost:8080/",
          "height": 472
        },
        "id": "HoF4dvghf-xl",
        "outputId": "a9db79f2-d8bf-40a3-a5e2-535f34a79d60"
      },
      "execution_count": 52,
      "outputs": [
        {
          "output_type": "display_data",
          "data": {
            "text/plain": [
              "<Figure size 640x480 with 1 Axes>"
            ],
            "image/png": "[encoded data removed]"
          },
          "metadata": {}
        }
      ]
    }
  ]
}