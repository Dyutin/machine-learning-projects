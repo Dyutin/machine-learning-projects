{
  "nbformat": 4,
  "nbformat_minor": 0,
  "metadata": {
    "colab": {
      "provenance": []
    },
    "kernelspec": {
      "name": "python3",
      "display_name": "Python 3"
    },
    "language_info": {
      "name": "python"
    }
  },
  "cells": [
    {
      "cell_type": "markdown",
      "metadata": {
        "id": "view-in-github"
      },
      "source": [
        "<a href=\"https://colab.research.google.com/github/smithakolan/MachineLearningFundamentals/blob/master/Linear_Regression(NumPY%2C_Pandas_etc).ipynb\" target=\"_parent\"><img src=\"https://colab.research.google.com/assets/colab-badge.svg\" alt=\"Open In Colab\"/></a>"
      ]
    },
    {
      "cell_type": "code",
      "metadata": {
        "id": "y-zGxFGZYyl0"
      },
      "source": [
        "import pandas as pd\n",
        "import numpy as np"
      ],
      "execution_count": 1,
      "outputs": []
    },
    {
      "cell_type": "code",
      "metadata": {
        "id": "MSV8JbcZY1Ny"
      },
      "source": [
        "df = pd.read_csv('/content/Levels_Fyi_Salary_Data.csv')\n",
        "print(df)"
      ],
      "execution_count": null,
      "outputs": []
    },
    {
      "cell_type": "code",
      "metadata": {
        "colab": {
          "base_uri": "https://localhost:8080/"
        },
        "id": "eTPzeV3aZs04",
        "outputId": "bb642b26-3154-4cab-d91e-272197bac5ea"
      },
      "source": [
        "print(df.columns)"
      ],
      "execution_count": 6,
      "outputs": [
        {
          "output_type": "stream",
          "name": "stdout",
          "text": [
            "Index(['timestamp', 'company', 'level', 'title', 'totalyearlycompensation',\n",
            "       'location', 'yearsofexperience', 'yearsatcompany', 'tag', 'basesalary',\n",
            "       'stockgrantvalue', 'bonus', 'gender', 'otherdetails', 'cityid', 'dmaid',\n",
            "       'rowNumber', 'Masters_Degree', 'Bachelors_Degree', 'Doctorate_Degree',\n",
            "       'Highschool', 'Some_College', 'Race_Asian', 'Race_White',\n",
            "       'Race_Two_Or_More', 'Race_Black', 'Race_Hispanic', 'Race', 'Education'],\n",
            "      dtype='object')\n"
          ]
        }
      ]
    },
    {
      "cell_type": "code",
      "metadata": {
        "id": "Iac8lT_iZ4Pu"
      },
      "source": [
        "salaryDF = df[['company', 'totalyearlycompensation', 'yearsofexperience', 'yearsatcompany', 'basesalary']]"
      ],
      "execution_count": 8,
      "outputs": []
    },
    {
      "cell_type": "code",
      "metadata": {
        "colab": {
          "base_uri": "https://localhost:8080/"
        },
        "id": "zEN0R2zYaaKy",
        "outputId": "11adba54-d5c5-403b-cd3c-cd5c6754cac3"
      },
      "source": [
        "print(salaryDF.head())\n",
        "print( salaryDF.count()[0]  )"
      ],
      "execution_count": 57,
      "outputs": [
        {
          "output_type": "stream",
          "name": "stdout",
          "text": [
            "     company  totalyearlycompensation  yearsofexperience  yearsatcompany  \\\n",
            "0     Oracle                 127000.0                1.5             1.5   \n",
            "1       eBay                 100000.0                5.0             3.0   \n",
            "2     Amazon                 310000.0                8.0             0.0   \n",
            "3      Apple                 372000.0                7.0             5.0   \n",
            "4  Microsoft                 157000.0                5.0             3.0   \n",
            "\n",
            "   basesalary  \n",
            "0    107000.0  \n",
            "1         0.0  \n",
            "2    155000.0  \n",
            "3    157000.0  \n",
            "4         0.0  \n",
            "29798\n"
          ]
        }
      ]
    },
    {
      "cell_type": "markdown",
      "metadata": {
        "id": "ka6aCbUlBCUM"
      },
      "source": [
        "## Create training and testing data"
      ]
    },
    {
      "cell_type": "markdown",
      "source": [
        "y = totalyearlycompensation\n",
        "x1 = yearsofexperiance x2=yearsatcompany x3=basesalary\n",
        "y = w1x1+w2x2+w3x3+b\n",
        "Y=XW"
      ],
      "metadata": {
        "id": "nEU5Tb5lY8Pm"
      }
    },
    {
      "cell_type": "code",
      "source": [
        "x_train = salaryDF.iloc[:23838, 2:]\n",
        "y_train = salaryDF.iloc[:23838,1]\n",
        "x_test = salaryDF.iloc[23838:, 2:]\n",
        "y_test = salaryDF.iloc[23838:,1]\n",
        "x_train.insert(loc=3, column='b', value=1)\n",
        "x_test.insert(loc=3, column='b', value=1)"
      ],
      "metadata": {
        "id": "xWxt3ZChHlRT"
      },
      "execution_count": 136,
      "outputs": []
    },
    {
      "cell_type": "markdown",
      "metadata": {
        "id": "u3e3eb06BN4s"
      },
      "source": [
        "## Functions for RMSE & calculating weights"
      ]
    },
    {
      "cell_type": "code",
      "metadata": {
        "id": "V5grJVNi4omx"
      },
      "source": [
        "def rmse(targets, predictions):\n",
        "    return np.sqrt((np.square(predictions - targets)).mean())\n",
        "\n",
        "def calculateWeights(x_train, y_train):\n",
        "    w = np.linalg.inv(np.transpose(x_train).dot(x_train)).dot(np.transpose(x_train).dot(y_train))\n",
        "    return w\n"
      ],
      "execution_count": 113,
      "outputs": []
    },
    {
      "cell_type": "code",
      "source": [
        "w = calculateWeights(x_train, y_train)\n",
        "print(w)"
      ],
      "metadata": {
        "colab": {
          "base_uri": "https://localhost:8080/"
        },
        "id": "5xe1W1kQnAOV",
        "outputId": "229de62c-a4fd-4d1a-9052-6ba8ef76fc2e"
      },
      "execution_count": 137,
      "outputs": [
        {
          "output_type": "stream",
          "name": "stdout",
          "text": [
            "[ 7.26235317e+03 -1.47216267e+03  8.99402240e-01  6.17883998e+04]\n"
          ]
        }
      ]
    },
    {
      "cell_type": "code",
      "source": [
        "#training_error\n",
        "y_train_pred = x_train.dot(w)\n",
        "train_error = rmse(y_train, y_train_pred)\n",
        "print(train_error)\n",
        "\n",
        "#testing error\n",
        "y_test_pred = x_test.dot(w)\n",
        "test_error = rmse(y_test, y_test_pred)\n",
        "print(test_error)"
      ],
      "metadata": {
        "colab": {
          "base_uri": "https://localhost:8080/"
        },
        "id": "pmJweN4rnN4R",
        "outputId": "b29692f6-1c42-4fb5-92e0-0bb8fbbe2937"
      },
      "execution_count": 138,
      "outputs": [
        {
          "output_type": "stream",
          "name": "stdout",
          "text": [
            "100678.14611899099\n",
            "85051.12258388866\n"
          ]
        }
      ]
    },
    {
      "cell_type": "code",
      "source": [
        "'''\n",
        "y = totalyearlycompensation\n",
        "x1 = yearsofexperiance x2=yearsatcompany x3=basesalary\n",
        "'''\n",
        "\n",
        "new_pred = np.array([5, 3, 80000, 1]).dot(w)\n",
        "print(new_pred)"
      ],
      "metadata": {
        "colab": {
          "base_uri": "https://localhost:8080/"
        },
        "id": "tHKK2sRayv50",
        "outputId": "13443ce4-4c10-4beb-a2c2-9153d1692999"
      },
      "execution_count": 139,
      "outputs": [
        {
          "output_type": "stream",
          "name": "stdout",
          "text": [
            "165635.85679197533\n"
          ]
        }
      ]
    }
  ]
}